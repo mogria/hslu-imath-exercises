{
 "cells": [
  {
   "cell_type": "markdown",
   "metadata": {},
   "source": [
    "# Linear Algebra - Exercises 1\n",
    "\n",
    "## 15 Learn how to use Octave"
   ]
  },
  {
   "cell_type": "code",
   "execution_count": 1,
   "metadata": {},
   "outputs": [
    {
     "name": "stdout",
     "output_type": "stream",
     "text": [
      "ans =  30\r\n"
     ]
    }
   ],
   "source": [
    "5 * 6"
   ]
  },
  {
   "cell_type": "code",
   "execution_count": 2,
   "metadata": {},
   "outputs": [
    {
     "name": "stdout",
     "output_type": "stream",
     "text": [
      "ans =  64\r\n"
     ]
    }
   ],
   "source": [
    "2^6"
   ]
  },
  {
   "cell_type": "code",
   "execution_count": 3,
   "metadata": {},
   "outputs": [
    {
     "name": "stdout",
     "output_type": "stream",
     "text": [
      "ans =\r\n",
      "\r\n",
      "Diagonal Matrix\r\n",
      "\r\n",
      "   1   0   0   0\r\n",
      "   0   1   0   0\r\n",
      "   0   0   1   0\r\n",
      "   0   0   0   1\r\n",
      "\r\n"
     ]
    }
   ],
   "source": [
    "eye(4)"
   ]
  },
  {
   "cell_type": "code",
   "execution_count": 4,
   "metadata": {},
   "outputs": [
    {
     "name": "stdout",
     "output_type": "stream",
     "text": [
      "ans = 0\r\n"
     ]
    }
   ],
   "source": [
    "1 == 2 % false"
   ]
  },
  {
   "cell_type": "code",
   "execution_count": 5,
   "metadata": {},
   "outputs": [
    {
     "name": "stdout",
     "output_type": "stream",
     "text": [
      "ans = 1\r\n"
     ]
    }
   ],
   "source": [
    "1 == 1 % true"
   ]
  },
  {
   "cell_type": "code",
   "execution_count": 6,
   "metadata": {},
   "outputs": [
    {
     "name": "stdout",
     "output_type": "stream",
     "text": [
      "ans = 1\r\n"
     ]
    }
   ],
   "source": [
    "1 ~=2 % not equal"
   ]
  },
  {
   "cell_type": "code",
   "execution_count": 7,
   "metadata": {},
   "outputs": [
    {
     "name": "stdout",
     "output_type": "stream",
     "text": [
      "ans = 0\r\n"
     ]
    }
   ],
   "source": [
    "1 && 0 % local AND => false"
   ]
  },
  {
   "cell_type": "code",
   "execution_count": 8,
   "metadata": {},
   "outputs": [
    {
     "name": "stdout",
     "output_type": "stream",
     "text": [
      "ans = 1\r\n"
     ]
    }
   ],
   "source": [
    "1 || 0 % local OR => false"
   ]
  },
  {
   "cell_type": "code",
   "execution_count": 9,
   "metadata": {},
   "outputs": [
    {
     "name": "stdout",
     "output_type": "stream",
     "text": [
      "a =  3\r\n"
     ]
    }
   ],
   "source": [
    "a = 3"
   ]
  },
  {
   "cell_type": "code",
   "execution_count": 10,
   "metadata": {},
   "outputs": [
    {
     "name": "stdout",
     "output_type": "stream",
     "text": [
      "a =  1\r\n"
     ]
    }
   ],
   "source": [
    "a = 1\n",
    "b = 2;\n",
    "c = 3;"
   ]
  },
  {
   "cell_type": "code",
   "execution_count": 11,
   "metadata": {},
   "outputs": [
    {
     "name": "stdout",
     "output_type": "stream",
     "text": [
      "a = hello world\r\n"
     ]
    }
   ],
   "source": [
    "a = 'hello world'"
   ]
  },
  {
   "cell_type": "code",
   "execution_count": 12,
   "metadata": {},
   "outputs": [
    {
     "name": "stdout",
     "output_type": "stream",
     "text": [
      "c = 1\r\n"
     ]
    }
   ],
   "source": [
    "c = (3>=1)"
   ]
  },
  {
   "cell_type": "code",
   "execution_count": 13,
   "metadata": {},
   "outputs": [
    {
     "name": "stdout",
     "output_type": "stream",
     "text": [
      " 3.1416\n",
      "2 deciamls: 3.14\n"
     ]
    }
   ],
   "source": [
    "pi_variable = pi;\n",
    "disp(pi_variable); % display a variable\n",
    "disp(sprintf('2 deciamls: %0.2f', pi_variable))"
   ]
  },
  {
   "cell_type": "code",
   "execution_count": 14,
   "metadata": {},
   "outputs": [
    {
     "name": "stdout",
     "output_type": "stream",
     "text": [
      "6 deciamls: 3.141593\r\n"
     ]
    }
   ],
   "source": [
    "disp(sprintf('6 deciamls: %0.6f', pi_variable)) % hello c-code"
   ]
  },
  {
   "cell_type": "code",
   "execution_count": 15,
   "metadata": {},
   "outputs": [
    {
     "name": "stdout",
     "output_type": "stream",
     "text": [
      "pi_variable =  3.141592653589793\n",
      "pi_variable =  3.1416\n"
     ]
    }
   ],
   "source": [
    "format long % long output format\n",
    "pi_variable\n",
    "\n",
    "format short % short output format\n",
    "pi_variable"
   ]
  },
  {
   "cell_type": "code",
   "execution_count": 16,
   "metadata": {},
   "outputs": [
    {
     "name": "stdout",
     "output_type": "stream",
     "text": [
      "A =\r\n",
      "\r\n",
      "   1   2\r\n",
      "   3   4\r\n",
      "   5   6\r\n",
      "\r\n"
     ]
    }
   ],
   "source": [
    "A = [1 2; 3 4; 5 6]"
   ]
  },
  {
   "cell_type": "code",
   "execution_count": 17,
   "metadata": {},
   "outputs": [
    {
     "name": "stdout",
     "output_type": "stream",
     "text": [
      "v =\r\n",
      "\r\n",
      "   1   2   3\r\n",
      "\r\n"
     ]
    }
   ],
   "source": [
    "v = [1 2 3]"
   ]
  },
  {
   "cell_type": "code",
   "execution_count": 18,
   "metadata": {},
   "outputs": [
    {
     "name": "stdout",
     "output_type": "stream",
     "text": [
      "v =\r\n",
      "\r\n",
      "   1\r\n",
      "   2\r\n",
      "   3\r\n",
      "\r\n"
     ]
    }
   ],
   "source": [
    "v = [1; 2; 3]"
   ]
  },
  {
   "cell_type": "code",
   "execution_count": 19,
   "metadata": {},
   "outputs": [
    {
     "name": "stdout",
     "output_type": "stream",
     "text": [
      "v =\r\n",
      "\r\n",
      " Columns 1 through 8:\r\n",
      "\r\n",
      "    1.0000    1.1000    1.2000    1.3000    1.4000    1.5000    1.6000    1.7000\r\n",
      "\r\n",
      " Columns 9 through 11:\r\n",
      "\r\n",
      "    1.8000    1.9000    2.0000\r\n",
      "\r\n"
     ]
    }
   ],
   "source": [
    " v = 1:0.1:2 % 1 by 11 matrix"
   ]
  },
  {
   "cell_type": "code",
   "execution_count": 20,
   "metadata": {},
   "outputs": [],
   "source": [
    "v = 1:6;"
   ]
  },
  {
   "cell_type": "code",
   "execution_count": 21,
   "metadata": {},
   "outputs": [
    {
     "name": "stdout",
     "output_type": "stream",
     "text": [
      "ans =\r\n",
      "\r\n",
      "   1   1   1   1\r\n",
      "   1   1   1   1\r\n",
      "\r\n"
     ]
    }
   ],
   "source": [
    "ones (2,4) % "
   ]
  },
  {
   "cell_type": "code",
   "execution_count": 22,
   "metadata": {},
   "outputs": [
    {
     "name": "stdout",
     "output_type": "stream",
     "text": [
      "ans =\r\n",
      "\r\n",
      "   2   2   2   2\r\n",
      "   2   2   2   2\r\n",
      "\r\n"
     ]
    }
   ],
   "source": [
    "2*ones(2,4) % 2 by 4 matrix with 2"
   ]
  },
  {
   "cell_type": "code",
   "execution_count": 23,
   "metadata": {},
   "outputs": [
    {
     "name": "stdout",
     "output_type": "stream",
     "text": [
      "ans =\r\n",
      "\r\n",
      "   0   0   0   0\r\n",
      "   0   0   0   0\r\n",
      "\r\n"
     ]
    }
   ],
   "source": [
    "zeros(2,4) % 2 by 4 matrix"
   ]
  },
  {
   "cell_type": "code",
   "execution_count": 24,
   "metadata": {},
   "outputs": [
    {
     "name": "stdout",
     "output_type": "stream",
     "text": [
      "ans =\r\n",
      "\r\n",
      "  -1.4227  -1.0089  -2.0022\r\n",
      "\r\n"
     ]
    }
   ],
   "source": [
    "randn(1,3)"
   ]
  },
  {
   "cell_type": "code",
   "execution_count": 25,
   "metadata": {},
   "outputs": [
    {
     "data": {
      "image/png": "[encoded data removed]",
      "text/plain": [
       "<IPython.core.display.Image object>"
      ]
     },
     "metadata": {},
     "output_type": "display_data"
    }
   ],
   "source": [
    "w = (randn(1,10000));\n",
    "hist(w,50)"
   ]
  },
  {
   "cell_type": "markdown",
   "metadata": {},
   "source": [
    "identity matrix"
   ]
  },
  {
   "cell_type": "code",
   "execution_count": 26,
   "metadata": {},
   "outputs": [
    {
     "name": "stdout",
     "output_type": "stream",
     "text": [
      "ans =\r\n",
      "\r\n",
      "Diagonal Matrix\r\n",
      "\r\n",
      "   1   0   0   0   0   0\r\n",
      "   0   1   0   0   0   0\r\n",
      "   0   0   1   0   0   0\r\n",
      "   0   0   0   1   0   0\r\n",
      "   0   0   0   0   1   0\r\n",
      "   0   0   0   0   0   1\r\n",
      "\r\n"
     ]
    }
   ],
   "source": [
    "eye(6)"
   ]
  },
  {
   "cell_type": "code",
   "execution_count": 27,
   "metadata": {},
   "outputs": [
    {
     "name": "stdout",
     "output_type": "stream",
     "text": [
      "'eye' is a built-in function from the file libinterp/corefcn/data.cc\r\n",
      "\r\n",
      " -- eye (N)\r\n",
      " -- eye (M, N)\r\n",
      " -- eye ([M N])\r\n",
      " -- eye (..., CLASS)\r\n",
      "     Return an identity matrix.\r\n",
      "\r\n",
      "     If invoked with a single scalar argument N, return a square NxN\r\n",
      "     identity matrix.\r\n",
      "\r\n",
      "     If supplied two scalar arguments (M, N), 'eye' takes them to be the\r\n",
      "     number of rows and columns.  If given a vector with two elements,\r\n",
      "     'eye' uses the values of the elements as the number of rows and\r\n",
      "     columns, respectively.  For example:\r\n",
      "\r\n",
      "          eye (3)\r\n",
      "           =>  1  0  0\r\n",
      "               0  1  0\r\n",
      "               0  0  1\r\n",
      "\r\n",
      "     The following expressions all produce the same result:\r\n",
      "\r\n",
      "          eye (2)\r\n",
      "          ==\r\n",
      "          eye (2, 2)\r\n",
      "          ==\r\n",
      "          eye (size ([1, 2; 3, 4]))\r\n",
      "\r\n",
      "     The optional argument CLASS, allows 'eye' to return an array of the\r\n",
      "     specified type, like\r\n",
      "\r\n",
      "          val = zeros (n,m, \"uint8\")\r\n",
      "\r\n",
      "     Calling 'eye' with no arguments is equivalent to calling it with an\r\n",
      "     argument of 1.  Any negative dimensions are treated as zero.  These\r\n",
      "     odd definitions are for compatibility with MATLAB.\r\n",
      "\r\n",
      "     See also: speye, ones, zeros.\r\n",
      "\r\n",
      "Additional help for built-in functions and operators is\r\n",
      "available in the online version of the manual.  Use the command\r\n",
      "'doc <topic>' to search the manual index.\r\n",
      "\r\n",
      "Help and information about Octave is also available on the WWW\r\n",
      "at https://www.octave.org and via the help@octave.org\r\n",
      "mailing list.\r\n"
     ]
    }
   ],
   "source": [
    "help eye"
   ]
  },
  {
   "cell_type": "code",
   "execution_count": 28,
   "metadata": {},
   "outputs": [
    {
     "name": "stdout",
     "output_type": "stream",
     "text": [
      "A =\r\n",
      "\r\n",
      "   1   2\r\n",
      "   3   4\r\n",
      "   5   6\r\n",
      "\r\n"
     ]
    }
   ],
   "source": [
    "A"
   ]
  },
  {
   "cell_type": "code",
   "execution_count": 29,
   "metadata": {},
   "outputs": [
    {
     "name": "stdout",
     "output_type": "stream",
     "text": [
      "ans =\r\n",
      "\r\n",
      "   3   2\r\n",
      "\r\n"
     ]
    }
   ],
   "source": [
    "size(A)"
   ]
  },
  {
   "cell_type": "code",
   "execution_count": 30,
   "metadata": {},
   "outputs": [
    {
     "name": "stdout",
     "output_type": "stream",
     "text": [
      "ans =  3\r\n"
     ]
    }
   ],
   "source": [
    "size(A,1)"
   ]
  },
  {
   "cell_type": "code",
   "execution_count": 31,
   "metadata": {},
   "outputs": [
    {
     "name": "stdout",
     "output_type": "stream",
     "text": [
      "ans =  4\r\n"
     ]
    }
   ],
   "source": [
    "v = [1 2 3 4];\n",
    "length(v)"
   ]
  },
  {
   "cell_type": "code",
   "execution_count": 32,
   "metadata": {},
   "outputs": [
    {
     "name": "stdout",
     "output_type": "stream",
     "text": [
      "ans = /Users/tluscre1/Documents/Studium.Local/IMATH/hslu-imath-exercises/Week_01\r\n"
     ]
    }
   ],
   "source": [
    "pwd"
   ]
  },
  {
   "cell_type": "code",
   "execution_count": 33,
   "metadata": {},
   "outputs": [
    {
     "name": "stdout",
     "output_type": "stream",
     "text": [
      "Variables in the current scope:\r\n",
      "\r\n",
      "   Attr Name             Size                     Bytes  Class\r\n",
      "   ==== ====             ====                     =====  ===== \r\n",
      "        A                3x2                         48  double\r\n",
      "        a                1x11                        11  char\r\n",
      "        ans              1x74                        74  char\r\n",
      "        b                1x1                          8  double\r\n",
      "        c                1x1                          1  logical\r\n",
      "        pi_variable      1x1                          8  double\r\n",
      "        v                1x4                         32  double\r\n",
      "        w                1x10000                  80000  double\r\n",
      "\r\n",
      "Total is 10098 elements using 80182 bytes\r\n",
      "\r\n"
     ]
    }
   ],
   "source": [
    "whos"
   ]
  },
  {
   "cell_type": "code",
   "execution_count": 34,
   "metadata": {},
   "outputs": [
    {
     "name": "stdout",
     "output_type": "stream",
     "text": [
      "Variables in the current scope:\r\n",
      "\r\n",
      "A            ans          c            v\r\n",
      "a            b            pi_variable  w\r\n",
      "\r\n"
     ]
    }
   ],
   "source": [
    "who"
   ]
  },
  {
   "cell_type": "code",
   "execution_count": 35,
   "metadata": {},
   "outputs": [],
   "source": [
    "clear pi_variable"
   ]
  },
  {
   "cell_type": "code",
   "execution_count": 36,
   "metadata": {},
   "outputs": [
    {
     "name": "stdout",
     "output_type": "stream",
     "text": [
      "Variables in the current scope:\r\n",
      "\r\n",
      "A    a    ans  b    c    v    w\r\n",
      "\r\n"
     ]
    }
   ],
   "source": [
    "who"
   ]
  },
  {
   "cell_type": "code",
   "execution_count": 37,
   "metadata": {},
   "outputs": [
    {
     "name": "stdout",
     "output_type": "stream",
     "text": [
      "Variables in the current scope:\r\n",
      "\r\n",
      "   Attr Name        Size                     Bytes  Class\r\n",
      "   ==== ====        ====                     =====  ===== \r\n",
      "        A           3x2                         48  double\r\n",
      "        a           1x11                        11  char\r\n",
      "        ans         1x74                        74  char\r\n",
      "        b           1x1                          8  double\r\n",
      "        c           1x1                          1  logical\r\n",
      "        v           1x4                         32  double\r\n",
      "        w           1x10000                  80000  double\r\n",
      "\r\n",
      "Total is 10097 elements using 80174 bytes\r\n",
      "\r\n"
     ]
    }
   ],
   "source": [
    "whos"
   ]
  },
  {
   "cell_type": "code",
   "execution_count": 38,
   "metadata": {},
   "outputs": [
    {
     "name": "stdout",
     "output_type": "stream",
     "text": [
      "ans =\r\n",
      "\r\n",
      "   1   5\r\n",
      "\r\n"
     ]
    }
   ],
   "source": [
    "size(w(1:5))"
   ]
  },
  {
   "cell_type": "code",
   "execution_count": 39,
   "metadata": {},
   "outputs": [],
   "source": [
    "clear"
   ]
  },
  {
   "cell_type": "code",
   "execution_count": 40,
   "metadata": {},
   "outputs": [
    {
     "name": "stdout",
     "output_type": "stream",
     "text": [
      "A =\n",
      "\n",
      "   1   2\n",
      "   3   4\n",
      "   5   6\n",
      "\n",
      "ans =  6\n"
     ]
    }
   ],
   "source": [
    "A = [1 2; 3 4; 5 6]\n",
    "A(3,2)"
   ]
  },
  {
   "cell_type": "code",
   "execution_count": 41,
   "metadata": {},
   "outputs": [
    {
     "name": "stdout",
     "output_type": "stream",
     "text": [
      "ans =\r\n",
      "\r\n",
      "   3   4\r\n",
      "\r\n"
     ]
    }
   ],
   "source": [
    "A(2,:) % means everey element along that row/column"
   ]
  },
  {
   "cell_type": "code",
   "execution_count": 42,
   "metadata": {},
   "outputs": [
    {
     "name": "stdout",
     "output_type": "stream",
     "text": [
      "A =\r\n",
      "\r\n",
      "    1   10\r\n",
      "    3   11\r\n",
      "    5   12\r\n",
      "\r\n"
     ]
    }
   ],
   "source": [
    "A(:,2) = [10, 11, 12]"
   ]
  },
  {
   "cell_type": "code",
   "execution_count": 43,
   "metadata": {},
   "outputs": [
    {
     "name": "stdout",
     "output_type": "stream",
     "text": [
      "A =\r\n",
      "\r\n",
      "     1    10   100\r\n",
      "     3    11   101\r\n",
      "     5    12   102\r\n",
      "\r\n"
     ]
    }
   ],
   "source": [
    "A = [A, [100; 101; 102]]"
   ]
  },
  {
   "cell_type": "code",
   "execution_count": 44,
   "metadata": {},
   "outputs": [
    {
     "name": "stdout",
     "output_type": "stream",
     "text": [
      "ans =\r\n",
      "\r\n",
      "   3   3\r\n",
      "\r\n"
     ]
    }
   ],
   "source": [
    "size(A)"
   ]
  },
  {
   "cell_type": "code",
   "execution_count": 45,
   "metadata": {},
   "outputs": [
    {
     "name": "stdout",
     "output_type": "stream",
     "text": [
      "ans =\r\n",
      "\r\n",
      "     1\r\n",
      "     3\r\n",
      "     5\r\n",
      "    10\r\n",
      "    11\r\n",
      "    12\r\n",
      "   100\r\n",
      "   101\r\n",
      "   102\r\n",
      "\r\n"
     ]
    }
   ],
   "source": [
    "A(:)"
   ]
  },
  {
   "cell_type": "code",
   "execution_count": 46,
   "metadata": {},
   "outputs": [
    {
     "name": "stdout",
     "output_type": "stream",
     "text": [
      "C =\r\n",
      "\r\n",
      "    1    2   11   12\r\n",
      "    3    4   13   14\r\n",
      "    5    6   15   16\r\n",
      "\r\n"
     ]
    }
   ],
   "source": [
    "A = [1 2; 3 4; 5 6];\n",
    "B = [11 12; 13 14; 15 16];\n",
    "C = [A B]"
   ]
  },
  {
   "cell_type": "code",
   "execution_count": 47,
   "metadata": {},
   "outputs": [
    {
     "name": "stdout",
     "output_type": "stream",
     "text": [
      "C =\r\n",
      "\r\n",
      "    1    2\r\n",
      "    3    4\r\n",
      "    5    6\r\n",
      "   11   12\r\n",
      "   13   14\r\n",
      "   15   16\r\n",
      "\r\n"
     ]
    }
   ],
   "source": [
    "C = [A; B] % put the matrix B at the bottom"
   ]
  },
  {
   "cell_type": "markdown",
   "metadata": {},
   "source": [
    "## Computing on data"
   ]
  },
  {
   "cell_type": "code",
   "execution_count": 48,
   "metadata": {},
   "outputs": [
    {
     "name": "stdout",
     "output_type": "stream",
     "text": [
      "A =\r\n",
      "\r\n",
      "   1   2\r\n",
      "   3   4\r\n",
      "   5   6\r\n",
      "\r\n"
     ]
    }
   ],
   "source": [
    "A"
   ]
  },
  {
   "cell_type": "code",
   "execution_count": 49,
   "metadata": {},
   "outputs": [
    {
     "name": "stdout",
     "output_type": "stream",
     "text": [
      "B =\r\n",
      "\r\n",
      "   11   12\r\n",
      "   13   14\r\n",
      "   15   16\r\n",
      "\r\n"
     ]
    }
   ],
   "source": [
    "B"
   ]
  },
  {
   "cell_type": "code",
   "execution_count": 50,
   "metadata": {},
   "outputs": [
    {
     "name": "stdout",
     "output_type": "stream",
     "text": [
      "C =\r\n",
      "\r\n",
      "   1   1\r\n",
      "   2   2\r\n",
      "\r\n"
     ]
    }
   ],
   "source": [
    "C = [1 1; 2 2]"
   ]
  },
  {
   "cell_type": "code",
   "execution_count": 51,
   "metadata": {},
   "outputs": [
    {
     "name": "stdout",
     "output_type": "stream",
     "text": [
      "ans =\r\n",
      "\r\n",
      "    5    5\r\n",
      "   11   11\r\n",
      "   17   17\r\n",
      "\r\n"
     ]
    }
   ],
   "source": [
    "A*C"
   ]
  },
  {
   "cell_type": "code",
   "execution_count": 52,
   "metadata": {},
   "outputs": [
    {
     "name": "stdout",
     "output_type": "stream",
     "text": [
      "ans =\r\n",
      "\r\n",
      "   11   24\r\n",
      "   39   56\r\n",
      "   75   96\r\n",
      "\r\n"
     ]
    }
   ],
   "source": [
    "A .* B"
   ]
  },
  {
   "cell_type": "code",
   "execution_count": 53,
   "metadata": {},
   "outputs": [
    {
     "name": "stdout",
     "output_type": "stream",
     "text": [
      "ans =\r\n",
      "\r\n",
      "    1    4\r\n",
      "    9   16\r\n",
      "   25   36\r\n",
      "\r\n"
     ]
    }
   ],
   "source": [
    "A .^ 2"
   ]
  },
  {
   "cell_type": "code",
   "execution_count": 54,
   "metadata": {},
   "outputs": [
    {
     "name": "stdout",
     "output_type": "stream",
     "text": [
      "v =\n",
      "\n",
      "   1\n",
      "   2\n",
      "   3\n",
      "\n",
      "ans =\n",
      "\n",
      "   0.00000\n",
      "   0.69315\n",
      "   1.09861\n",
      "\n",
      "ans =\n",
      "\n",
      "    2.7183\n",
      "    7.3891\n",
      "   20.0855\n",
      "\n"
     ]
    }
   ],
   "source": [
    "v = [1; 2; 3]\n",
    "log(v)\n",
    "exp(v)"
   ]
  },
  {
   "cell_type": "code",
   "execution_count": 55,
   "metadata": {},
   "outputs": [
    {
     "name": "stdout",
     "output_type": "stream",
     "text": [
      "ans =\r\n",
      "\r\n",
      "   1   2   3\r\n",
      "\r\n"
     ]
    }
   ],
   "source": [
    "abs([-1, 2 -3])"
   ]
  },
  {
   "cell_type": "code",
   "execution_count": 56,
   "metadata": {},
   "outputs": [
    {
     "name": "stdout",
     "output_type": "stream",
     "text": [
      "A =\n",
      "\n",
      "   1   2\n",
      "   3   4\n",
      "   5   6\n",
      "\n",
      "ans =\n",
      "\n",
      "   1   3   5\n",
      "   2   4   6\n",
      "\n"
     ]
    }
   ],
   "source": [
    "A\n",
    "A' "
   ]
  },
  {
   "cell_type": "code",
   "execution_count": 57,
   "metadata": {},
   "outputs": [
    {
     "name": "stdout",
     "output_type": "stream",
     "text": [
      "A =\n",
      "\n",
      "   1   2\n",
      "   3   4\n",
      "   5   6\n",
      "\n",
      "val =\n",
      "\n",
      "   5   6\n",
      "\n",
      "ind =\n",
      "\n",
      "   3   3\n",
      "\n"
     ]
    }
   ],
   "source": [
    "A\n",
    "[val, ind] = max(A) "
   ]
  },
  {
   "cell_type": "code",
   "execution_count": 58,
   "metadata": {},
   "outputs": [
    {
     "name": "stdout",
     "output_type": "stream",
     "text": [
      "A =\r\n",
      "\r\n",
      "   8   1   6\r\n",
      "   3   5   7\r\n",
      "   4   9   2\r\n",
      "\r\n"
     ]
    }
   ],
   "source": [
    "A = magic(3)"
   ]
  },
  {
   "cell_type": "code",
   "execution_count": 59,
   "metadata": {},
   "outputs": [
    {
     "name": "stdout",
     "output_type": "stream",
     "text": [
      "'magic' is a function from the file /usr/local/Cellar/octave/5.1.0_6/share/octave/5.1.0/m/special-matrix/magic.m\r\n",
      "\r\n",
      " -- magic (N)\r\n",
      "\r\n",
      "     Create an N-by-N magic square.\r\n",
      "\r\n",
      "     A magic square is an arrangement of the integers '1:n^2' such that\r\n",
      "     the row sums, column sums, and diagonal sums are all equal to the\r\n",
      "     same value.\r\n",
      "\r\n",
      "     Note: N must be a scalar greater than or equal to 3.  If you supply\r\n",
      "     N less than 3, magic returns either a nonmagic square, or else the\r\n",
      "     degenerate magic squares 1 and [].\r\n",
      "\r\n",
      "Additional help for built-in functions and operators is\r\n",
      "available in the online version of the manual.  Use the command\r\n",
      "'doc <topic>' to search the manual index.\r\n",
      "\r\n",
      "Help and information about Octave is also available on the WWW\r\n",
      "at https://www.octave.org and via the help@octave.org\r\n",
      "mailing list.\r\n"
     ]
    }
   ],
   "source": [
    "help magic"
   ]
  },
  {
   "cell_type": "code",
   "execution_count": 60,
   "metadata": {},
   "outputs": [
    {
     "name": "stdout",
     "output_type": "stream",
     "text": [
      "r =\r\n",
      "\r\n",
      "   1\r\n",
      "   3\r\n",
      "   2\r\n",
      "\r\n",
      "c =\r\n",
      "\r\n",
      "   1\r\n",
      "   2\r\n",
      "   3\r\n",
      "\r\n"
     ]
    }
   ],
   "source": [
    "[r,c] = find( A >= 7)"
   ]
  },
  {
   "cell_type": "code",
   "execution_count": 61,
   "metadata": {},
   "outputs": [
    {
     "name": "stdout",
     "output_type": "stream",
     "text": [
      "ans =  7\r\n"
     ]
    }
   ],
   "source": [
    "A(2,3)"
   ]
  },
  {
   "cell_type": "code",
   "execution_count": 62,
   "metadata": {},
   "outputs": [
    {
     "name": "stdout",
     "output_type": "stream",
     "text": [
      "a =\n",
      "\n",
      "    1.00000   15.00000    2.00000    0.50000\n",
      "\n",
      "ans =  18.500\n",
      "ans =  15\n",
      "ans =\n",
      "\n",
      "    1   15    2    0\n",
      "\n",
      "ans =\n",
      "\n",
      "    1   15    2    1\n",
      "\n"
     ]
    }
   ],
   "source": [
    "a = [1, 15, 2, 0.5]\n",
    "sum (a) % Sum of elements\n",
    "prod (a) % Product of elements\n",
    "floor (a) % round down\n",
    "ceil (a) % round up"
   ]
  },
  {
   "cell_type": "code",
   "execution_count": 63,
   "metadata": {},
   "outputs": [
    {
     "name": "stdout",
     "output_type": "stream",
     "text": [
      "'floor' is a built-in function from the file libinterp/corefcn/mappers.cc\r\n",
      "\r\n",
      " -- floor (X)\r\n",
      "     Return the largest integer not greater than X.\r\n",
      "\r\n",
      "     This is equivalent to rounding towards negative infinity.  If X is\r\n",
      "     complex, return 'floor (real (X)) + floor (imag (X)) * I'.\r\n",
      "\r\n",
      "          floor ([-2.7, 2.7])\r\n",
      "               => -3    2\r\n",
      "\r\n",
      "     See also: ceil, round, fix.\r\n",
      "\r\n",
      "Additional help for built-in functions and operators is\r\n",
      "available in the online version of the manual.  Use the command\r\n",
      "'doc <topic>' to search the manual index.\r\n",
      "\r\n",
      "Help and information about Octave is also available on the WWW\r\n",
      "at https://www.octave.org and via the help@octave.org\r\n",
      "mailing list.\r\n"
     ]
    }
   ],
   "source": [
    "help floor"
   ]
  },
  {
   "cell_type": "markdown",
   "metadata": {},
   "source": [
    "## Plotting Data"
   ]
  },
  {
   "cell_type": "code",
   "execution_count": 64,
   "metadata": {},
   "outputs": [
    {
     "data": {
      "image/png": "[encoded data removed]",
      "text/plain": [
       "<IPython.core.display.Image object>"
      ]
     },
     "metadata": {},
     "output_type": "display_data"
    }
   ],
   "source": [
    "t = [0:0.01:1];\n",
    "y1 = sin(2*pi*4*t);\n",
    "plot(t, y1)"
   ]
  },
  {
   "cell_type": "code",
   "execution_count": 65,
   "metadata": {},
   "outputs": [
    {
     "data": {
      "image/png": "[encoded data removed]",
      "text/plain": [
       "<IPython.core.display.Image object>"
      ]
     },
     "metadata": {},
     "output_type": "display_data"
    }
   ],
   "source": [
    "y1 = sin(2*pi*4*t);\n",
    "y2 = cos(2*pi*4*t);\n",
    "plot(t,y1, 'r')\n",
    "hold on;\n",
    "plot(t,y2, 'g')\n",
    "xlabel('time')\n",
    "ylabel('vlaue')\n",
    "legend ('sin', 'cos')\n",
    "title('my first plot')"
   ]
  },
  {
   "cell_type": "code",
   "execution_count": 66,
   "metadata": {},
   "outputs": [
    {
     "data": {
      "image/png": "[encoded data removed]",
      "text/plain": [
       "<IPython.core.display.Image object>"
      ]
     },
     "metadata": {},
     "output_type": "display_data"
    }
   ],
   "source": [
    "subplot(1,2,1) % divides plot a 1x2 (first)\n",
    "plot(t,y1, 'r')\n",
    "subplot(1,2,2) \n",
    "plot(t,y2, 'b') % second"
   ]
  },
  {
   "cell_type": "code",
   "execution_count": 67,
   "metadata": {},
   "outputs": [
    {
     "data": {
      "image/png": "[encoded data removed]",
      "text/plain": [
       "<IPython.core.display.Image object>"
      ]
     },
     "metadata": {},
     "output_type": "display_data"
    }
   ],
   "source": [
    "A = magic(15);\n",
    "imagesc(A), colorbar, colormap gray;"
   ]
  },
  {
   "cell_type": "code",
   "execution_count": 68,
   "metadata": {},
   "outputs": [
    {
     "name": "stdout",
     "output_type": "stream",
     "text": [
      "parse error:\r\n",
      "\r\n",
      "  syntax error\r\n",
      "\r\n",
      ">>> a=1 b=2, c=3\r\n",
      "        ^\r\n",
      "\r\n"
     ]
    }
   ],
   "source": [
    "a=1 b=2, c=3"
   ]
  },
  {
   "cell_type": "markdown",
   "metadata": {},
   "source": [
    "## Control statements (for, while, if) and functions"
   ]
  },
  {
   "cell_type": "code",
   "execution_count": 69,
   "metadata": {},
   "outputs": [
    {
     "name": "stdout",
     "output_type": "stream",
     "text": [
      "v =\r\n",
      "\r\n",
      "   0\r\n",
      "   0\r\n",
      "   0\r\n",
      "   0\r\n",
      "   0\r\n",
      "   0\r\n",
      "   0\r\n",
      "   0\r\n",
      "   0\r\n",
      "   0\r\n",
      "\r\n"
     ]
    }
   ],
   "source": [
    "v=zeros(10,1)"
   ]
  },
  {
   "cell_type": "code",
   "execution_count": 70,
   "metadata": {},
   "outputs": [
    {
     "name": "stdout",
     "output_type": "stream",
     "text": [
      "v =\r\n",
      "\r\n",
      "      2\r\n",
      "      4\r\n",
      "      8\r\n",
      "     16\r\n",
      "     32\r\n",
      "     64\r\n",
      "    128\r\n",
      "    256\r\n",
      "    512\r\n",
      "   1024\r\n",
      "\r\n"
     ]
    }
   ],
   "source": [
    "for i=1:10,\n",
    "    v(i) = 2^i;\n",
    "end;\n",
    "v"
   ]
  },
  {
   "cell_type": "code",
   "execution_count": 71,
   "metadata": {},
   "outputs": [
    {
     "name": "stdout",
     "output_type": "stream",
     "text": [
      "v =\r\n",
      "\r\n",
      "      2\r\n",
      "      4\r\n",
      "      8\r\n",
      "     16\r\n",
      "     32\r\n",
      "     64\r\n",
      "    128\r\n",
      "    256\r\n",
      "    512\r\n",
      "   1024\r\n",
      "\r\n"
     ]
    }
   ],
   "source": [
    "v"
   ]
  },
  {
   "cell_type": "code",
   "execution_count": 72,
   "metadata": {},
   "outputs": [
    {
     "name": "stdout",
     "output_type": "stream",
     "text": [
      "v =\r\n",
      "\r\n",
      "    100\r\n",
      "    100\r\n",
      "    100\r\n",
      "    100\r\n",
      "    100\r\n",
      "     64\r\n",
      "    128\r\n",
      "    256\r\n",
      "    512\r\n",
      "   1024\r\n",
      "\r\n"
     ]
    }
   ],
   "source": [
    "i = 1;\n",
    "while i <= 5,\n",
    "    v(i) = 100;\n",
    "    i = i+1;\n",
    "end;\n",
    "v"
   ]
  },
  {
   "cell_type": "code",
   "execution_count": 73,
   "metadata": {},
   "outputs": [],
   "source": [
    "function y = squareThisNumber(x)\n",
    " y = x^2;\n",
    "endfunction"
   ]
  },
  {
   "cell_type": "code",
   "execution_count": 74,
   "metadata": {},
   "outputs": [
    {
     "name": "stdout",
     "output_type": "stream",
     "text": [
      "ans =  4\r\n"
     ]
    }
   ],
   "source": [
    "squareThisNumber(2)"
   ]
  },
  {
   "cell_type": "code",
   "execution_count": 75,
   "metadata": {},
   "outputs": [
    {
     "data": {
      "image/png": "[encoded data removed]",
      "text/plain": [
       "<IPython.core.display.Image object>"
      ]
     },
     "metadata": {},
     "output_type": "display_data"
    }
   ],
   "source": [
    "t = linspace(0,6*pi,100);\n",
    "plot(sin(t))\n",
    "grid on\n",
    "hold on\n",
    "plot(cos(t), 'r')"
   ]
  },
  {
   "cell_type": "code",
   "execution_count": 76,
   "metadata": {},
   "outputs": [
    {
     "data": {
      "image/png": "[encoded data removed]",
      "text/plain": [
       "<IPython.core.display.Image object>"
      ]
     },
     "metadata": {},
     "output_type": "display_data"
    }
   ],
   "source": [
    "%plot --format png\n",
    "tx = ty = linspace (-8, 8, 41)';\n",
    "[xx, yy] = meshgrid (tx, ty);\n",
    "r = sqrt (xx .^ 2 + yy .^ 2) + eps;\n",
    "tz = sin (r) ./ r;\n",
    "mesh (tx, ty, tz);"
   ]
  },
  {
   "cell_type": "code",
   "execution_count": 77,
   "metadata": {},
   "outputs": [
    {
     "data": {
      "image/png": "[encoded data removed]",
      "text/plain": [
       "<IPython.core.display.Image object>"
      ]
     },
     "metadata": {},
     "output_type": "display_data"
    }
   ],
   "source": [
    "% Create an RGB image with no title or labels\n",
    "close all hidden\n",
    "image = zeros(300,400,3);\n",
    "image(1:100,:,1) = 0.9;  % Red\n",
    "image(101:200,:,2) = rand(100,400);  % Green\n",
    "image(201:300,:,3) = 0.9;  % Blue\n",
    "imshow(image)"
   ]
  },
  {
   "cell_type": "code",
   "execution_count": 78,
   "metadata": {},
   "outputs": [
    {
     "data": {
      "image/png": "[encoded data removed]",
      "text/plain": [
       "<IPython.core.display.Image object>"
      ]
     },
     "metadata": {},
     "output_type": "display_data"
    }
   ],
   "source": [
    "% image that is too small to display raw (<100 pixels)\n",
    "imshow(rand(50,50))"
   ]
  },
  {
   "cell_type": "markdown",
   "metadata": {},
   "source": [
    "# 16 Reducing to row echelon form using Octave"
   ]
  },
  {
   "cell_type": "code",
   "execution_count": 79,
   "metadata": {},
   "outputs": [],
   "source": [
    "function [L U] = RowEchelonForm(A)\n",
    "\n",
    "[m, n] = size(A);\n",
    "\n",
    "for k=1:m\n",
    "    for i = k+1:m\n",
    "        fact = A(i,k)/A(k,k);\n",
    "        for j = k:n\n",
    "            A(i,j) = A(i,j) - fact*A(k,j);\n",
    "        end\n",
    "        A(i,k) = fact;\n",
    "    end\n",
    "end\n",
    "\n",
    "U = triu(A);\n",
    "L = tril(A,-1) + eye(m,n);\n",
    "\n",
    "endfunction"
   ]
  },
  {
   "cell_type": "code",
   "execution_count": 80,
   "metadata": {},
   "outputs": [
    {
     "name": "stdout",
     "output_type": "stream",
     "text": [
      "A =\r\n",
      "\r\n",
      "   2  -1   0   0\r\n",
      "  -1   2  -1   0\r\n",
      "   0  -1   2  -1\r\n",
      "   0   0  -1   2\r\n",
      "\r\n"
     ]
    }
   ],
   "source": [
    "# A = magic(3)\n",
    "# A = [[ 1, 2, -1, -4];[ 2, 3, -1, -11];[-2, 0, -3, 22]]\n",
    "A = [2 -1 0 0; -1 2 -1 0; 0 -1 2 -1; 0 0 -1, 2]"
   ]
  },
  {
   "cell_type": "code",
   "execution_count": 81,
   "metadata": {},
   "outputs": [
    {
     "name": "stdout",
     "output_type": "stream",
     "text": [
      "L =\n",
      "\n",
      "   1.00000   0.00000   0.00000   0.00000\n",
      "  -0.50000   1.00000   0.00000   0.00000\n",
      "   0.00000  -0.66667   1.00000   0.00000\n",
      "   0.00000   0.00000  -0.75000   1.00000\n",
      "\n",
      "U =\n",
      "\n",
      "   2.00000  -1.00000   0.00000   0.00000\n",
      "   0.00000   1.50000  -1.00000   0.00000\n",
      "   0.00000   0.00000   1.33333  -1.00000\n",
      "   0.00000   0.00000   0.00000   1.25000\n",
      "\n",
      "LOverOctave =\n",
      "\n",
      "   1.00000   0.00000   0.00000   0.00000\n",
      "  -0.50000   1.00000   0.00000   0.00000\n",
      "   0.00000  -0.66667   1.00000   0.00000\n",
      "   0.00000   0.00000  -0.75000   1.00000\n",
      "\n",
      "UOverOctave =\n",
      "\n",
      "   2.00000  -1.00000   0.00000   0.00000\n",
      "   0.00000   1.50000  -1.00000   0.00000\n",
      "   0.00000   0.00000   1.33333  -1.00000\n",
      "   0.00000   0.00000   0.00000   1.25000\n",
      "\n"
     ]
    }
   ],
   "source": [
    "[L, U] = RowEchelonForm(A)\n",
    "\n",
    "# with octave build in function\n",
    "[LOverOctave, UOverOctave] = lu(A)"
   ]
  }
 ],
 "metadata": {
  "kernelspec": {
   "display_name": "Octave",
   "language": "octave",
   "name": "octave"
  },
  "language_info": {
   "file_extension": ".m",
   "help_links": [
    {
     "text": "GNU Octave",
     "url": "https://www.gnu.org/software/octave/support.html"
    },
    {
     "text": "Octave Kernel",
     "url": "https://github.com/Calysto/octave_kernel"
    },
    {
     "text": "MetaKernel Magics",
     "url": "https://metakernel.readthedocs.io/en/latest/source/README.html"
    }
   ],
   "mimetype": "text/x-octave",
   "name": "octave",
   "version": "5.1.0"
  }
 },
 "nbformat": 4,
 "nbformat_minor": 2
}
